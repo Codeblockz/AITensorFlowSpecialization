{
  "nbformat": 4,
  "nbformat_minor": 0,
  "metadata": {
    "colab": {
      "name": "Copy of Exercise 2 - Answer.ipynb",
      "version": "0.3.2",
      "provenance": [],
      "include_colab_link": true
    },
    "kernelspec": {
      "name": "python3",
      "display_name": "Python 3"
    }
  },
  "cells": [
    {
      "cell_type": "markdown",
      "metadata": {
        "id": "view-in-github",
        "colab_type": "text"
      },
      "source": [
        "<a href=\"https://colab.research.google.com/github/DayuanTan/AITensorFlowSpecialization/blob/master/myExercise/official_Exercise_2_Answer.ipynb\" target=\"_parent\"><img src=\"https://colab.research.google.com/assets/colab-badge.svg\" alt=\"Open In Colab\"/></a>"
      ]
    },
    {
      "cell_type": "code",
      "metadata": {
        "colab_type": "code",
        "id": "22hBZbxx98IS",
        "colab": {
          "base_uri": "https://localhost:8080/",
          "height": 1000
        },
        "outputId": "6c950702-d670-44ef-dcc4-854eb25d70c3"
      },
      "source": [
        "import tensorflow as tf\n",
        "\n",
        "class myCallback(tf.keras.callbacks.Callback):\n",
        "  def on_epoch_end(self, epoch, logs={}):\n",
        "    if(logs.get('acc')>0.998):\n",
        "      print(\"\\nReached 99.8% accuracy so cancelling training!\")\n",
        "      self.model.stop_training = True\n",
        "\n",
        "callbacks = myCallback()\n",
        "mnist = tf.keras.datasets.mnist\n",
        "(training_images, training_labels), (test_images, test_labels) = mnist.load_data()\n",
        "training_images=training_images.reshape(60000, 28, 28, 1)\n",
        "training_images=training_images / 255.0\n",
        "test_images = test_images.reshape(10000, 28, 28, 1)\n",
        "test_images=test_images/255.0\n",
        "model = tf.keras.models.Sequential([\n",
        "  tf.keras.layers.Conv2D(32, (3,3), activation='relu', input_shape=(28, 28, 1)),\n",
        "  tf.keras.layers.MaxPooling2D(2, 2),\n",
        "  tf.keras.layers.Flatten(),\n",
        "  tf.keras.layers.Dense(128, activation='relu'),\n",
        "  tf.keras.layers.Dense(10, activation='softmax')\n",
        "])\n",
        "model.compile(optimizer='adam', loss='sparse_categorical_crossentropy', metrics=['accuracy'])\n",
        "model.fit(training_images, training_labels, epochs=10, callbacks=[callbacks])\n"
      ],
      "execution_count": 1,
      "outputs": [
        {
          "output_type": "stream",
          "text": [
            "Downloading data from https://storage.googleapis.com/tensorflow/tf-keras-datasets/mnist.npz\n",
            "11493376/11490434 [==============================] - 0s 0us/step\n"
          ],
          "name": "stdout"
        },
        {
          "output_type": "stream",
          "text": [
            "WARNING: Logging before flag parsing goes to stderr.\n",
            "W0802 05:44:10.812763 140359538308992 deprecation.py:506] From /usr/local/lib/python3.6/dist-packages/tensorflow/python/ops/init_ops.py:1251: calling VarianceScaling.__init__ (from tensorflow.python.ops.init_ops) with dtype is deprecated and will be removed in a future version.\n",
            "Instructions for updating:\n",
            "Call initializer instance with the dtype argument instead of passing it to the constructor\n"
          ],
          "name": "stderr"
        },
        {
          "output_type": "stream",
          "text": [
            "Epoch 1/10\n",
            "60000/60000 [==============================] - 36s 605us/sample - loss: 0.1573 - acc: 0.9534\n",
            "Epoch 2/10\n",
            "60000/60000 [==============================] - 36s 596us/sample - loss: 0.0516 - acc: 0.9846\n",
            "Epoch 3/10\n",
            "60000/60000 [==============================] - 36s 595us/sample - loss: 0.0321 - acc: 0.9900\n",
            "Epoch 4/10\n",
            "60000/60000 [==============================] - 36s 594us/sample - loss: 0.0217 - acc: 0.9928\n",
            "Epoch 5/10\n",
            "60000/60000 [==============================] - 36s 595us/sample - loss: 0.0150 - acc: 0.9952\n",
            "Epoch 6/10\n",
            "60000/60000 [==============================] - 35s 590us/sample - loss: 0.0104 - acc: 0.9968\n",
            "Epoch 7/10\n",
            "60000/60000 [==============================] - 36s 594us/sample - loss: 0.0085 - acc: 0.9972\n",
            "Epoch 8/10\n",
            "60000/60000 [==============================] - 35s 588us/sample - loss: 0.0068 - acc: 0.9979\n",
            "Epoch 9/10\n",
            "59936/60000 [============================>.] - ETA: 0s - loss: 0.0047 - acc: 0.9984\n",
            "Reached 99.8% accuracy so cancelling training!\n",
            "60000/60000 [==============================] - 36s 594us/sample - loss: 0.0047 - acc: 0.9984\n"
          ],
          "name": "stdout"
        },
        {
          "output_type": "execute_result",
          "data": {
            "text/plain": [
              "<tensorflow.python.keras.callbacks.History at 0x7fa7c6cd7fd0>"
            ]
          },
          "metadata": {
            "tags": []
          },
          "execution_count": 1
        }
      ]
    }
  ]
}
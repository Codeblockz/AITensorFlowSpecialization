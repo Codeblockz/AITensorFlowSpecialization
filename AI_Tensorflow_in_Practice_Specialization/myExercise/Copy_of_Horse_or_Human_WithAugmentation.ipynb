{
  "nbformat": 4,
  "nbformat_minor": 0,
  "metadata": {
    "colab": {
      "name": "Copy of Horse-or-Human-WithAugmentation.ipynb",
      "version": "0.3.2",
      "provenance": [],
      "collapsed_sections": [],
      "include_colab_link": true
    },
    "kernelspec": {
      "name": "python3",
      "display_name": "Python 3"
    },
    "accelerator": "GPU"
  },
  "cells": [
    {
      "cell_type": "markdown",
      "metadata": {
        "id": "view-in-github",
        "colab_type": "text"
      },
      "source": [
        "<a href=\"https://colab.research.google.com/github/DayuanTan/AITensorFlowSpecialization/blob/master/myExercise/Copy_of_Horse_or_Human_WithAugmentation.ipynb\" target=\"_parent\"><img src=\"https://colab.research.google.com/assets/colab-badge.svg\" alt=\"Open In Colab\"/></a>"
      ]
    },
    {
      "cell_type": "code",
      "metadata": {
        "colab_type": "code",
        "id": "RXZT2UsyIVe_",
        "colab": {
          "base_uri": "https://localhost:8080/",
          "height": 420
        },
        "outputId": "f10c97f1-bbce-453f-a29a-0c87f68f197a"
      },
      "source": [
        "!wget --no-check-certificate \\\n",
        "    https://storage.googleapis.com/laurencemoroney-blog.appspot.com/horse-or-human.zip \\\n",
        "    -O /tmp/horse-or-human.zip\n",
        "\n",
        "!wget --no-check-certificate \\\n",
        "    https://storage.googleapis.com/laurencemoroney-blog.appspot.com/validation-horse-or-human.zip \\\n",
        "    -O /tmp/validation-horse-or-human.zip\n",
        "  \n",
        "import os\n",
        "import zipfile\n",
        "\n",
        "local_zip = '/tmp/horse-or-human.zip'\n",
        "zip_ref = zipfile.ZipFile(local_zip, 'r')\n",
        "zip_ref.extractall('/tmp/horse-or-human')\n",
        "local_zip = '/tmp/validation-horse-or-human.zip'\n",
        "zip_ref = zipfile.ZipFile(local_zip, 'r')\n",
        "zip_ref.extractall('/tmp/validation-horse-or-human')\n",
        "zip_ref.close()\n",
        "# Directory with our training horse pictures\n",
        "train_horse_dir = os.path.join('/tmp/horse-or-human/horses')\n",
        "\n",
        "# Directory with our training human pictures\n",
        "train_human_dir = os.path.join('/tmp/horse-or-human/humans')\n",
        "\n",
        "# Directory with our training horse pictures\n",
        "validation_horse_dir = os.path.join('/tmp/validation-horse-or-human/horses')\n",
        "\n",
        "# Directory with our training human pictures\n",
        "validation_human_dir = os.path.join('/tmp/validation-horse-or-human/humans')"
      ],
      "execution_count": 1,
      "outputs": [
        {
          "output_type": "stream",
          "text": [
            "--2019-09-03 03:33:09--  https://storage.googleapis.com/laurencemoroney-blog.appspot.com/horse-or-human.zip\n",
            "Resolving storage.googleapis.com (storage.googleapis.com)... 74.125.24.128, 2404:6800:4003:c04::80\n",
            "Connecting to storage.googleapis.com (storage.googleapis.com)|74.125.24.128|:443... connected.\n",
            "HTTP request sent, awaiting response... 200 OK\n",
            "Length: 149574867 (143M) [application/zip]\n",
            "Saving to: ‘/tmp/horse-or-human.zip’\n",
            "\n",
            "/tmp/horse-or-human 100%[===================>] 142.65M  71.9MB/s    in 2.0s    \n",
            "\n",
            "2019-09-03 03:33:12 (71.9 MB/s) - ‘/tmp/horse-or-human.zip’ saved [149574867/149574867]\n",
            "\n",
            "--2019-09-03 03:33:14--  https://storage.googleapis.com/laurencemoroney-blog.appspot.com/validation-horse-or-human.zip\n",
            "Resolving storage.googleapis.com (storage.googleapis.com)... 74.125.200.128, 2404:6800:4003:c02::80\n",
            "Connecting to storage.googleapis.com (storage.googleapis.com)|74.125.200.128|:443... connected.\n",
            "HTTP request sent, awaiting response... 200 OK\n",
            "Length: 11480187 (11M) [application/zip]\n",
            "Saving to: ‘/tmp/validation-horse-or-human.zip’\n",
            "\n",
            "/tmp/validation-hor 100%[===================>]  10.95M  31.9MB/s    in 0.3s    \n",
            "\n",
            "2019-09-03 03:33:15 (31.9 MB/s) - ‘/tmp/validation-horse-or-human.zip’ saved [11480187/11480187]\n",
            "\n"
          ],
          "name": "stdout"
        }
      ]
    },
    {
      "cell_type": "markdown",
      "metadata": {
        "colab_type": "text",
        "id": "5oqBkNBJmtUv"
      },
      "source": [
        "## Building a Small Model from Scratch\n",
        "\n",
        "But before we continue, let's start defining the model:\n",
        "\n",
        "Step 1 will be to import tensorflow."
      ]
    },
    {
      "cell_type": "code",
      "metadata": {
        "id": "qvfZg3LQbD-5",
        "colab_type": "code",
        "colab": {}
      },
      "source": [
        "import tensorflow as tf"
      ],
      "execution_count": 0,
      "outputs": []
    },
    {
      "cell_type": "markdown",
      "metadata": {
        "colab_type": "text",
        "id": "BnhYCP4tdqjC"
      },
      "source": [
        "We then add convolutional layers as in the previous example, and flatten the final result to feed into the densely connected layers."
      ]
    },
    {
      "cell_type": "markdown",
      "metadata": {
        "id": "gokG5HKpdtzm",
        "colab_type": "text"
      },
      "source": [
        "Finally we add the densely connected layers. \n",
        "\n",
        "Note that because we are facing a two-class classification problem, i.e. a *binary classification problem*, we will end our network with a [*sigmoid* activation](https://wikipedia.org/wiki/Sigmoid_function), so that the output of our network will be a single scalar between 0 and 1, encoding the probability that the current image is class 1 (as opposed to class 0)."
      ]
    },
    {
      "cell_type": "code",
      "metadata": {
        "id": "PixZ2s5QbYQ3",
        "colab_type": "code",
        "colab": {
          "base_uri": "https://localhost:8080/",
          "height": 110
        },
        "outputId": "49ee86fe-4b13-4bf3-d552-d16d57349523"
      },
      "source": [
        "model = tf.keras.models.Sequential([\n",
        "    # Note the input shape is the desired size of the image 300x300 with 3 bytes color\n",
        "    # This is the first convolution\n",
        "    tf.keras.layers.Conv2D(16, (3,3), activation='relu', input_shape=(300, 300, 3)),\n",
        "    tf.keras.layers.MaxPooling2D(2, 2),\n",
        "    # The second convolution\n",
        "    tf.keras.layers.Conv2D(32, (3,3), activation='relu'),\n",
        "    tf.keras.layers.MaxPooling2D(2,2),\n",
        "    # The third convolution\n",
        "    tf.keras.layers.Conv2D(64, (3,3), activation='relu'),\n",
        "    tf.keras.layers.MaxPooling2D(2,2),\n",
        "    # The fourth convolution\n",
        "    tf.keras.layers.Conv2D(64, (3,3), activation='relu'),\n",
        "    tf.keras.layers.MaxPooling2D(2,2),\n",
        "    # The fifth convolution\n",
        "    tf.keras.layers.Conv2D(64, (3,3), activation='relu'),\n",
        "    tf.keras.layers.MaxPooling2D(2,2),\n",
        "    # Flatten the results to feed into a DNN\n",
        "    tf.keras.layers.Flatten(),\n",
        "    # 512 neuron hidden layer\n",
        "    tf.keras.layers.Dense(512, activation='relu'),\n",
        "    # Only 1 output neuron. It will contain a value from 0-1 where 0 for 1 class ('horses') and 1 for the other ('humans')\n",
        "    tf.keras.layers.Dense(1, activation='sigmoid')\n",
        "])"
      ],
      "execution_count": 3,
      "outputs": [
        {
          "output_type": "stream",
          "text": [
            "WARNING: Logging before flag parsing goes to stderr.\n",
            "W0903 03:34:24.921269 140223105640320 deprecation.py:506] From /usr/local/lib/python3.6/dist-packages/tensorflow/python/ops/init_ops.py:1251: calling VarianceScaling.__init__ (from tensorflow.python.ops.init_ops) with dtype is deprecated and will be removed in a future version.\n",
            "Instructions for updating:\n",
            "Call initializer instance with the dtype argument instead of passing it to the constructor\n"
          ],
          "name": "stderr"
        }
      ]
    },
    {
      "cell_type": "code",
      "metadata": {
        "colab_type": "code",
        "id": "8DHWhFP_uhq3",
        "colab": {
          "base_uri": "https://localhost:8080/",
          "height": 88
        },
        "outputId": "29fd640a-b53e-4a49-c8c2-ff8f64a89b20"
      },
      "source": [
        "from tensorflow.keras.optimizers import RMSprop\n",
        "\n",
        "model.compile(loss='binary_crossentropy',\n",
        "              optimizer=RMSprop(lr=1e-4),\n",
        "              metrics=['acc'])"
      ],
      "execution_count": 4,
      "outputs": [
        {
          "output_type": "stream",
          "text": [
            "W0903 03:34:31.642444 140223105640320 deprecation.py:323] From /usr/local/lib/python3.6/dist-packages/tensorflow/python/ops/nn_impl.py:180: add_dispatch_support.<locals>.wrapper (from tensorflow.python.ops.array_ops) is deprecated and will be removed in a future version.\n",
            "Instructions for updating:\n",
            "Use tf.where in 2.0, which has the same broadcast rule as np.where\n"
          ],
          "name": "stderr"
        }
      ]
    },
    {
      "cell_type": "code",
      "metadata": {
        "colab_type": "code",
        "id": "ClebU9NJg99G",
        "colab": {
          "base_uri": "https://localhost:8080/",
          "height": 51
        },
        "outputId": "7c814428-fa59-4f6a-8759-502acc603bb6"
      },
      "source": [
        "from tensorflow.keras.preprocessing.image import ImageDataGenerator\n",
        "\n",
        "# All images will be rescaled by 1./255\n",
        "train_datagen = ImageDataGenerator(\n",
        "      rescale=1./255,\n",
        "      rotation_range=40,\n",
        "      width_shift_range=0.2,\n",
        "      height_shift_range=0.2,\n",
        "      shear_range=0.2,\n",
        "      zoom_range=0.2,\n",
        "      horizontal_flip=True,\n",
        "      fill_mode='nearest')\n",
        "\n",
        "validation_datagen = ImageDataGenerator(rescale=1/255)\n",
        "\n",
        "# Flow training images in batches of 128 using train_datagen generator\n",
        "train_generator = train_datagen.flow_from_directory(\n",
        "        '/tmp/horse-or-human/',  # This is the source directory for training images\n",
        "        target_size=(300, 300),  # All images will be resized to 150x150\n",
        "        batch_size=128,\n",
        "        # Since we use binary_crossentropy loss, we need binary labels\n",
        "        class_mode='binary')\n",
        "\n",
        "# Flow training images in batches of 128 using train_datagen generator\n",
        "validation_generator = validation_datagen.flow_from_directory(\n",
        "        '/tmp/validation-horse-or-human/',  # This is the source directory for training images\n",
        "        target_size=(300, 300),  # All images will be resized to 150x150\n",
        "        batch_size=32,\n",
        "        # Since we use binary_crossentropy loss, we need binary labels\n",
        "        class_mode='binary')"
      ],
      "execution_count": 5,
      "outputs": [
        {
          "output_type": "stream",
          "text": [
            "Found 1027 images belonging to 2 classes.\n",
            "Found 256 images belonging to 2 classes.\n"
          ],
          "name": "stdout"
        }
      ]
    },
    {
      "cell_type": "code",
      "metadata": {
        "colab_type": "code",
        "id": "Fb1_lgobv81m",
        "colab": {
          "base_uri": "https://localhost:8080/",
          "height": 1000
        },
        "outputId": "03dddff3-6a0a-4ca6-86bd-de1aae20499d"
      },
      "source": [
        "history = model.fit_generator(\n",
        "      train_generator,\n",
        "      steps_per_epoch=8,  \n",
        "      epochs=100,\n",
        "      verbose=1,\n",
        "      validation_data = validation_generator,\n",
        "      validation_steps=8)"
      ],
      "execution_count": 6,
      "outputs": [
        {
          "output_type": "stream",
          "text": [
            "Epoch 1/100\n",
            "8/8 [==============================] - 36s 5s/step - loss: 0.7199 - acc: 0.4994 - val_loss: 0.6606 - val_acc: 0.5000\n",
            "Epoch 2/100\n",
            "8/8 [==============================] - 32s 4s/step - loss: 0.6772 - acc: 0.6162 - val_loss: 0.6559 - val_acc: 0.5391\n",
            "Epoch 3/100\n",
            "8/8 [==============================] - 32s 4s/step - loss: 0.6429 - acc: 0.6563 - val_loss: 0.6237 - val_acc: 0.6172\n",
            "Epoch 4/100\n",
            "8/8 [==============================] - 30s 4s/step - loss: 0.6211 - acc: 0.6685 - val_loss: 0.5998 - val_acc: 0.7461\n",
            "Epoch 5/100\n",
            "8/8 [==============================] - 21s 3s/step - loss: 0.5912 - acc: 0.7266 - val_loss: 0.7479 - val_acc: 0.5117\n",
            "Epoch 6/100\n",
            "8/8 [==============================] - 18s 2s/step - loss: 0.5689 - acc: 0.6874 - val_loss: 0.7325 - val_acc: 0.5234\n",
            "Epoch 7/100\n",
            "8/8 [==============================] - 16s 2s/step - loss: 0.6178 - acc: 0.7003 - val_loss: 0.5591 - val_acc: 0.6719\n",
            "Epoch 8/100\n",
            "8/8 [==============================] - 21s 3s/step - loss: 0.5569 - acc: 0.7207 - val_loss: 0.6042 - val_acc: 0.6133\n",
            "Epoch 9/100\n",
            "8/8 [==============================] - 19s 2s/step - loss: 0.4899 - acc: 0.7564 - val_loss: 0.4680 - val_acc: 0.8086\n",
            "Epoch 10/100\n",
            "8/8 [==============================] - 18s 2s/step - loss: 0.5640 - acc: 0.7297 - val_loss: 0.8922 - val_acc: 0.5195\n",
            "Epoch 11/100\n",
            "8/8 [==============================] - 18s 2s/step - loss: 0.5441 - acc: 0.7642 - val_loss: 0.7519 - val_acc: 0.5469\n",
            "Epoch 12/100\n",
            "8/8 [==============================] - 21s 3s/step - loss: 0.5299 - acc: 0.7383 - val_loss: 0.4858 - val_acc: 0.7461\n",
            "Epoch 13/100\n",
            "8/8 [==============================] - 16s 2s/step - loss: 0.5324 - acc: 0.7545 - val_loss: 0.4007 - val_acc: 0.8945\n",
            "Epoch 14/100\n",
            "8/8 [==============================] - 18s 2s/step - loss: 0.5025 - acc: 0.7453 - val_loss: 0.9908 - val_acc: 0.5312\n",
            "Epoch 15/100\n",
            "8/8 [==============================] - 21s 3s/step - loss: 0.4870 - acc: 0.7646 - val_loss: 0.5704 - val_acc: 0.6758\n",
            "Epoch 16/100\n",
            "8/8 [==============================] - 18s 2s/step - loss: 0.6260 - acc: 0.6986 - val_loss: 0.5876 - val_acc: 0.6289\n",
            "Epoch 17/100\n",
            "8/8 [==============================] - 18s 2s/step - loss: 0.5261 - acc: 0.7408 - val_loss: 0.8134 - val_acc: 0.5703\n",
            "Epoch 18/100\n",
            "8/8 [==============================] - 18s 2s/step - loss: 0.5277 - acc: 0.7842 - val_loss: 0.8805 - val_acc: 0.5625\n",
            "Epoch 19/100\n",
            "8/8 [==============================] - 18s 2s/step - loss: 0.4564 - acc: 0.7964 - val_loss: 1.4146 - val_acc: 0.5156\n",
            "Epoch 20/100\n",
            "8/8 [==============================] - 18s 2s/step - loss: 0.4918 - acc: 0.7508 - val_loss: 1.0490 - val_acc: 0.5547\n",
            "Epoch 21/100\n",
            "8/8 [==============================] - 18s 2s/step - loss: 0.5176 - acc: 0.7597 - val_loss: 0.9786 - val_acc: 0.5586\n",
            "Epoch 22/100\n",
            "8/8 [==============================] - 21s 3s/step - loss: 0.4408 - acc: 0.7979 - val_loss: 1.2774 - val_acc: 0.5312\n",
            "Epoch 23/100\n",
            "8/8 [==============================] - 16s 2s/step - loss: 0.4343 - acc: 0.7494 - val_loss: 1.1198 - val_acc: 0.5469\n",
            "Epoch 24/100\n",
            "8/8 [==============================] - 21s 3s/step - loss: 0.4642 - acc: 0.7842 - val_loss: 1.2075 - val_acc: 0.5430\n",
            "Epoch 25/100\n",
            "8/8 [==============================] - 18s 2s/step - loss: 0.4497 - acc: 0.7887 - val_loss: 1.0046 - val_acc: 0.5938\n",
            "Epoch 26/100\n",
            "8/8 [==============================] - 18s 2s/step - loss: 0.4148 - acc: 0.8120 - val_loss: 0.7425 - val_acc: 0.6328\n",
            "Epoch 27/100\n",
            "8/8 [==============================] - 24s 3s/step - loss: 0.3943 - acc: 0.7998 - val_loss: 1.6854 - val_acc: 0.5234\n",
            "Epoch 28/100\n",
            "8/8 [==============================] - 34s 4s/step - loss: 0.3912 - acc: 0.8311 - val_loss: 1.0774 - val_acc: 0.6055\n",
            "Epoch 29/100\n",
            "8/8 [==============================] - 29s 4s/step - loss: 0.3425 - acc: 0.8101 - val_loss: 1.0619 - val_acc: 0.6211\n",
            "Epoch 30/100\n",
            "8/8 [==============================] - 32s 4s/step - loss: 0.4730 - acc: 0.7931 - val_loss: 1.2071 - val_acc: 0.5859\n",
            "Epoch 31/100\n",
            "8/8 [==============================] - 36s 4s/step - loss: 0.3348 - acc: 0.8662 - val_loss: 1.6050 - val_acc: 0.5664\n",
            "Epoch 32/100\n",
            "8/8 [==============================] - 32s 4s/step - loss: 0.3531 - acc: 0.8343 - val_loss: 1.1587 - val_acc: 0.6289\n",
            "Epoch 33/100\n",
            "8/8 [==============================] - 27s 3s/step - loss: 0.4828 - acc: 0.8217 - val_loss: 2.0773 - val_acc: 0.5234\n",
            "Epoch 34/100\n",
            "8/8 [==============================] - 35s 4s/step - loss: 0.3461 - acc: 0.8604 - val_loss: 1.0860 - val_acc: 0.6406\n",
            "Epoch 35/100\n",
            "8/8 [==============================] - 33s 4s/step - loss: 0.3735 - acc: 0.8343 - val_loss: 1.5379 - val_acc: 0.5781\n",
            "Epoch 36/100\n",
            "8/8 [==============================] - 31s 4s/step - loss: 0.2879 - acc: 0.8810 - val_loss: 1.5098 - val_acc: 0.5898\n",
            "Epoch 37/100\n",
            "8/8 [==============================] - 32s 4s/step - loss: 0.3708 - acc: 0.8176 - val_loss: 1.1526 - val_acc: 0.6055\n",
            "Epoch 38/100\n",
            "8/8 [==============================] - 32s 4s/step - loss: 0.5530 - acc: 0.8142 - val_loss: 1.5056 - val_acc: 0.5898\n",
            "Epoch 39/100\n",
            "8/8 [==============================] - 36s 4s/step - loss: 0.3282 - acc: 0.8574 - val_loss: 1.3300 - val_acc: 0.5977\n",
            "Epoch 40/100\n",
            "8/8 [==============================] - 31s 4s/step - loss: 0.3101 - acc: 0.8665 - val_loss: 1.2195 - val_acc: 0.6289\n",
            "Epoch 41/100\n",
            "8/8 [==============================] - 27s 3s/step - loss: 0.2970 - acc: 0.8501 - val_loss: 0.7942 - val_acc: 0.7383\n",
            "Epoch 42/100\n",
            "8/8 [==============================] - 36s 5s/step - loss: 0.4080 - acc: 0.8281 - val_loss: 1.3100 - val_acc: 0.6172\n",
            "Epoch 43/100\n",
            "8/8 [==============================] - 31s 4s/step - loss: 0.3773 - acc: 0.8454 - val_loss: 1.1625 - val_acc: 0.6211\n",
            "Epoch 44/100\n",
            "8/8 [==============================] - 33s 4s/step - loss: 0.2635 - acc: 0.8888 - val_loss: 1.7561 - val_acc: 0.5703\n",
            "Epoch 45/100\n",
            "8/8 [==============================] - 31s 4s/step - loss: 0.3088 - acc: 0.8843 - val_loss: 1.9674 - val_acc: 0.5508\n",
            "Epoch 46/100\n",
            "8/8 [==============================] - 31s 4s/step - loss: 0.3220 - acc: 0.8487 - val_loss: 1.1926 - val_acc: 0.6211\n",
            "Epoch 47/100\n",
            "8/8 [==============================] - 32s 4s/step - loss: 0.2808 - acc: 0.8977 - val_loss: 2.5960 - val_acc: 0.5352\n",
            "Epoch 48/100\n",
            "8/8 [==============================] - 35s 4s/step - loss: 0.2740 - acc: 0.8994 - val_loss: 3.0223 - val_acc: 0.5156\n",
            "Epoch 49/100\n",
            "8/8 [==============================] - 31s 4s/step - loss: 0.2825 - acc: 0.8665 - val_loss: 2.0512 - val_acc: 0.5586\n",
            "Epoch 50/100\n",
            "8/8 [==============================] - 27s 3s/step - loss: 0.2715 - acc: 0.8566 - val_loss: 2.2444 - val_acc: 0.5430\n",
            "Epoch 51/100\n",
            "8/8 [==============================] - 33s 4s/step - loss: 0.3052 - acc: 0.8665 - val_loss: 0.8554 - val_acc: 0.6914\n",
            "Epoch 52/100\n",
            "8/8 [==============================] - 35s 4s/step - loss: 0.2467 - acc: 0.9004 - val_loss: 1.9286 - val_acc: 0.5703\n",
            "Epoch 53/100\n",
            "8/8 [==============================] - 27s 3s/step - loss: 0.2641 - acc: 0.9005 - val_loss: 2.9378 - val_acc: 0.5195\n",
            "Epoch 54/100\n",
            "8/8 [==============================] - 36s 5s/step - loss: 0.2898 - acc: 0.8730 - val_loss: 1.4430 - val_acc: 0.6328\n",
            "Epoch 55/100\n",
            "8/8 [==============================] - 31s 4s/step - loss: 0.2858 - acc: 0.8632 - val_loss: 2.7037 - val_acc: 0.5234\n",
            "Epoch 56/100\n",
            "8/8 [==============================] - 33s 4s/step - loss: 0.2353 - acc: 0.9010 - val_loss: 3.2694 - val_acc: 0.5156\n",
            "Epoch 57/100\n",
            "8/8 [==============================] - 31s 4s/step - loss: 0.2883 - acc: 0.8854 - val_loss: 3.4983 - val_acc: 0.5117\n",
            "Epoch 58/100\n",
            "8/8 [==============================] - 36s 5s/step - loss: 0.2738 - acc: 0.8906 - val_loss: 1.3082 - val_acc: 0.6523\n",
            "Epoch 59/100\n",
            "8/8 [==============================] - 27s 3s/step - loss: 0.2758 - acc: 0.8618 - val_loss: 1.8902 - val_acc: 0.5742\n",
            "Epoch 60/100\n",
            "8/8 [==============================] - 32s 4s/step - loss: 0.2024 - acc: 0.9088 - val_loss: 1.5136 - val_acc: 0.6406\n",
            "Epoch 61/100\n",
            "8/8 [==============================] - 35s 4s/step - loss: 0.2456 - acc: 0.9004 - val_loss: 2.6707 - val_acc: 0.5273\n",
            "Epoch 62/100\n",
            "8/8 [==============================] - 32s 4s/step - loss: 0.2784 - acc: 0.8843 - val_loss: 2.7575 - val_acc: 0.5781\n",
            "Epoch 63/100\n",
            "8/8 [==============================] - 31s 4s/step - loss: 0.2414 - acc: 0.8943 - val_loss: 2.0731 - val_acc: 0.6016\n",
            "Epoch 64/100\n",
            "8/8 [==============================] - 32s 4s/step - loss: 0.2015 - acc: 0.9055 - val_loss: 2.0766 - val_acc: 0.5977\n",
            "Epoch 65/100\n",
            "8/8 [==============================] - 36s 5s/step - loss: 0.2333 - acc: 0.9092 - val_loss: 2.4023 - val_acc: 0.5625\n",
            "Epoch 66/100\n",
            "8/8 [==============================] - 31s 4s/step - loss: 0.2070 - acc: 0.9121 - val_loss: 1.6372 - val_acc: 0.6406\n",
            "Epoch 67/100\n",
            "8/8 [==============================] - 27s 3s/step - loss: 0.1949 - acc: 0.8979 - val_loss: 1.3418 - val_acc: 0.6641\n",
            "Epoch 68/100\n",
            "8/8 [==============================] - 35s 4s/step - loss: 0.2110 - acc: 0.9248 - val_loss: 2.9831 - val_acc: 0.5273\n",
            "Epoch 69/100\n",
            "8/8 [==============================] - 28s 3s/step - loss: 0.1878 - acc: 0.9083 - val_loss: 2.6589 - val_acc: 0.5586\n",
            "Epoch 70/100\n",
            "8/8 [==============================] - 35s 4s/step - loss: 0.2917 - acc: 0.8701 - val_loss: 1.3880 - val_acc: 0.6602\n",
            "Epoch 71/100\n",
            "8/8 [==============================] - 31s 4s/step - loss: 0.1670 - acc: 0.9310 - val_loss: 2.2040 - val_acc: 0.5898\n",
            "Epoch 72/100\n",
            "8/8 [==============================] - 32s 4s/step - loss: 0.2296 - acc: 0.8988 - val_loss: 1.9557 - val_acc: 0.6055\n",
            "Epoch 73/100\n",
            "8/8 [==============================] - 31s 4s/step - loss: 0.2028 - acc: 0.9143 - val_loss: 1.7058 - val_acc: 0.6328\n",
            "Epoch 74/100\n",
            "8/8 [==============================] - 32s 4s/step - loss: 0.1587 - acc: 0.9321 - val_loss: 3.3892 - val_acc: 0.5312\n",
            "Epoch 75/100\n",
            "8/8 [==============================] - 32s 4s/step - loss: 0.3242 - acc: 0.9210 - val_loss: 0.1081 - val_acc: 0.9570\n",
            "Epoch 76/100\n",
            "8/8 [==============================] - 31s 4s/step - loss: 0.4762 - acc: 0.8509 - val_loss: 1.8461 - val_acc: 0.6289\n",
            "Epoch 77/100\n",
            "8/8 [==============================] - 31s 4s/step - loss: 0.1608 - acc: 0.9321 - val_loss: 2.0127 - val_acc: 0.6172\n",
            "Epoch 78/100\n",
            "8/8 [==============================] - 37s 5s/step - loss: 0.1564 - acc: 0.9473 - val_loss: 2.1221 - val_acc: 0.6094\n",
            "Epoch 79/100\n",
            "8/8 [==============================] - 32s 4s/step - loss: 0.2535 - acc: 0.8966 - val_loss: 1.6955 - val_acc: 0.6406\n",
            "Epoch 80/100\n",
            "8/8 [==============================] - 31s 4s/step - loss: 0.1533 - acc: 0.9321 - val_loss: 2.0412 - val_acc: 0.6094\n",
            "Epoch 81/100\n",
            "8/8 [==============================] - 32s 4s/step - loss: 0.2057 - acc: 0.9177 - val_loss: 1.4743 - val_acc: 0.6641\n",
            "Epoch 82/100\n",
            "8/8 [==============================] - 31s 4s/step - loss: 0.2036 - acc: 0.9066 - val_loss: 1.9773 - val_acc: 0.6211\n",
            "Epoch 83/100\n",
            "8/8 [==============================] - 36s 4s/step - loss: 0.1764 - acc: 0.9365 - val_loss: 2.9313 - val_acc: 0.5625\n",
            "Epoch 84/100\n",
            "8/8 [==============================] - 28s 4s/step - loss: 0.2671 - acc: 0.8592 - val_loss: 2.1424 - val_acc: 0.6016\n",
            "Epoch 85/100\n",
            "8/8 [==============================] - 35s 4s/step - loss: 0.1753 - acc: 0.9307 - val_loss: 1.6954 - val_acc: 0.6602\n",
            "Epoch 86/100\n",
            "8/8 [==============================] - 27s 3s/step - loss: 0.1504 - acc: 0.9367 - val_loss: 1.3527 - val_acc: 0.6875\n",
            "Epoch 87/100\n",
            "8/8 [==============================] - 31s 4s/step - loss: 0.1610 - acc: 0.9399 - val_loss: 2.8578 - val_acc: 0.5820\n",
            "Epoch 88/100\n",
            "8/8 [==============================] - 32s 4s/step - loss: 0.2134 - acc: 0.9166 - val_loss: 1.2094 - val_acc: 0.7031\n",
            "Epoch 89/100\n",
            "8/8 [==============================] - 36s 4s/step - loss: 0.1974 - acc: 0.9248 - val_loss: 2.3035 - val_acc: 0.5977\n",
            "Epoch 90/100\n",
            "8/8 [==============================] - 32s 4s/step - loss: 0.1352 - acc: 0.9477 - val_loss: 2.0386 - val_acc: 0.6172\n",
            "Epoch 91/100\n",
            "8/8 [==============================] - 32s 4s/step - loss: 0.2055 - acc: 0.9288 - val_loss: 0.8595 - val_acc: 0.7305\n",
            "Epoch 92/100\n",
            "8/8 [==============================] - 31s 4s/step - loss: 0.3591 - acc: 0.8821 - val_loss: 2.6754 - val_acc: 0.5859\n",
            "Epoch 93/100\n",
            "8/8 [==============================] - 37s 5s/step - loss: 0.1540 - acc: 0.9434 - val_loss: 2.3491 - val_acc: 0.5977\n",
            "Epoch 94/100\n",
            "8/8 [==============================] - 26s 3s/step - loss: 0.1352 - acc: 0.9419 - val_loss: 2.9263 - val_acc: 0.5625\n",
            "Epoch 95/100\n",
            "8/8 [==============================] - 35s 4s/step - loss: 0.2122 - acc: 0.9102 - val_loss: 2.3497 - val_acc: 0.6016\n",
            "Epoch 96/100\n",
            "8/8 [==============================] - 32s 4s/step - loss: 0.1348 - acc: 0.9477 - val_loss: 3.5778 - val_acc: 0.5234\n",
            "Epoch 97/100\n",
            "8/8 [==============================] - 31s 4s/step - loss: 0.1695 - acc: 0.9199 - val_loss: 1.3090 - val_acc: 0.7070\n",
            "Epoch 98/100\n",
            "8/8 [==============================] - 31s 4s/step - loss: 0.1859 - acc: 0.9232 - val_loss: 2.3190 - val_acc: 0.6016\n",
            "Epoch 99/100\n",
            "8/8 [==============================] - 31s 4s/step - loss: 0.1975 - acc: 0.9266 - val_loss: 1.3907 - val_acc: 0.6914\n",
            "Epoch 100/100\n",
            "8/8 [==============================] - 32s 4s/step - loss: 0.1460 - acc: 0.9488 - val_loss: 2.5943 - val_acc: 0.5977\n"
          ],
          "name": "stdout"
        }
      ]
    },
    {
      "cell_type": "code",
      "metadata": {
        "id": "7zNPRWOVJdOH",
        "colab_type": "code",
        "colab": {
          "base_uri": "https://localhost:8080/",
          "height": 545
        },
        "outputId": "705b8f48-eace-4f1e-ad48-bc349d3beb3c"
      },
      "source": [
        "import matplotlib.pyplot as plt\n",
        "acc = history.history['acc']\n",
        "val_acc = history.history['val_acc']\n",
        "loss = history.history['loss']\n",
        "val_loss = history.history['val_loss']\n",
        "\n",
        "epochs = range(len(acc))\n",
        "\n",
        "plt.plot(epochs, acc, 'r', label='Training accuracy')\n",
        "plt.plot(epochs, val_acc, 'b', label='Validation accuracy')\n",
        "plt.title('Training and validation accuracy')\n",
        "\n",
        "plt.figure()\n",
        "\n",
        "plt.plot(epochs, loss, 'r', label='Training Loss')\n",
        "plt.plot(epochs, val_loss, 'b', label='Validation Loss')\n",
        "plt.title('Training and validation loss')\n",
        "plt.legend()\n",
        "\n",
        "plt.show()"
      ],
      "execution_count": 7,
      "outputs": [
        {
          "output_type": "display_data",
          "data": {
            "image/png": "[encoded data removed]",
            "text/plain": [
              "<Figure size 432x288 with 1 Axes>"
            ]
          },
          "metadata": {
            "tags": []
          }
        },
        {
          "output_type": "display_data",
          "data": {
            "image/png": "[encoded data removed]",
            "text/plain": [
              "<Figure size 432x288 with 1 Axes>"
            ]
          },
          "metadata": {
            "tags": []
          }
        }
      ]
    }
  ]
}